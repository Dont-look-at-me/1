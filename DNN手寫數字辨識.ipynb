{
  "cells": [
    {
      "cell_type": "markdown",
      "metadata": {
        "id": "view-in-github",
        "colab_type": "text"
      },
      "source": [
        "<a href=\"https://colab.research.google.com/github/Dont-look-at-me/1/blob/main/DNN%E6%89%8B%E5%AF%AB%E6%95%B8%E5%AD%97%E8%BE%A8%E8%AD%98.ipynb\" target=\"_parent\"><img src=\"https://colab.research.google.com/assets/colab-badge.svg\" alt=\"Open In Colab\"/></a>"
      ]
    },
    {
      "cell_type": "markdown",
      "source": [
        "# 建立DNN模型做手寫數字辨識"
      ],
      "metadata": {
        "id": "AZ4SQMg2_jDn"
      }
    },
    {
      "cell_type": "markdown",
      "source": [
        "\n",
        "## 比較細需要多注意的超參數有：\n",
        "  * activation 通常用到的有 relu, sigmoid, softmax\n",
        "  * loss = 'categorical_crossentropy', 'binary_crossentropy',     'sparse_categorical_crossentropy', 'mse'\n",
        "  * optimizer 常用的有 adam, sgd, rmsprop, adagrad 等\n",
        "  * Activation: relu,sigmoid, softmax\n",
        "  * batch_size\n",
        "  * metrics\n",
        "  * verbose\n",
        "  * epochs"
      ],
      "metadata": {
        "id": "VzZPhBfThW4J"
      }
    },
    {
      "cell_type": "markdown",
      "source": [
        "## 1.載入需用套件"
      ],
      "metadata": {
        "id": "pdCfHBeX_q9e"
      }
    },
    {
      "cell_type": "code",
      "execution_count": 1,
      "metadata": {
        "id": "GQ5rFMhT_l0k"
      },
      "outputs": [],
      "source": [
        "import numpy as np\n",
        "import matplotlib.pyplot as plt\n",
        "from tensorflow.keras.models import Sequential\n",
        "from tensorflow.keras.layers import Dense, Activation, Dropout, BatchNormalization\n"
      ]
    },
    {
      "cell_type": "markdown",
      "metadata": {
        "id": "8rHO9HjJ_l0l"
      },
      "source": [
        "\n",
        "## 2.匯入MINIST手寫辨識數據集以及資料前處理\n"
      ]
    },
    {
      "cell_type": "markdown",
      "metadata": {
        "id": "X2wJ6uf3_l0m"
      },
      "source": [
        "使用 tensorflow.keras.datasets 28x28 的手寫數字數據集"
      ]
    },
    {
      "cell_type": "code",
      "execution_count": 2,
      "metadata": {
        "id": "6vkMxcOv_l0m",
        "outputId": "77ecb944-677e-452d-9a3d-ca8f6426e7cc",
        "colab": {
          "base_uri": "https://localhost:8080/"
        }
      },
      "outputs": [
        {
          "output_type": "stream",
          "name": "stdout",
          "text": [
            "Downloading data from https://storage.googleapis.com/tensorflow/tf-keras-datasets/mnist.npz\n",
            "\u001b[1m11490434/11490434\u001b[0m \u001b[32m━━━━━━━━━━━━━━━━━━━━\u001b[0m\u001b[37m\u001b[0m \u001b[1m2s\u001b[0m 0us/step\n"
          ]
        }
      ],
      "source": [
        "#載入MNIST資料集：\n",
        "from tensorflow.keras.datasets import mnist\n",
        "\n",
        "(X_train, y_train), (X_test, y_test) = mnist.load_data()\n"
      ]
    },
    {
      "cell_type": "markdown",
      "source": [
        "## 3.對圖片做資料前處理"
      ],
      "metadata": {
        "id": "Ozbk2nqfAvgl"
      }
    },
    {
      "cell_type": "code",
      "source": [
        "#資料預處理：這裡將資料轉換為一維向量並進行標準化，將像素值除以 255，使其落在 0 到 1 的範圍內\n",
        "X_train=X_train.reshape(len(X_train),-1)/255\n",
        "X_test=X_test.reshape(len(X_test),-1)/255\n",
        "\n",
        "\n",
        "# one hot encoding: 這裡將標籤進行 One-hot 編碼，將每個標籤轉換為長度為 10 的二進位向量，以便在訓練時使用。\n",
        "y_train_one_hot = np.eye(10)[y_train]\n",
        "y_test_one_hot = np.eye(10)[y_test]\n",
        "\n",
        "print('Training data shape:',X_train.shape)\n",
        "print('Testing data shape:',X_test.shape)"
      ],
      "metadata": {
        "id": "PNFDmeyyAnup",
        "colab": {
          "base_uri": "https://localhost:8080/"
        },
        "outputId": "98c6639b-bee2-4590-b43a-2cf5c4bbd355"
      },
      "execution_count": 3,
      "outputs": [
        {
          "output_type": "stream",
          "name": "stdout",
          "text": [
            "Training data shape: (60000, 784)\n",
            "Testing data shape: (10000, 784)\n"
          ]
        }
      ]
    },
    {
      "cell_type": "markdown",
      "source": [
        "看看某一張圖片做了one_hot encoding後長什麼樣子"
      ],
      "metadata": {
        "id": "-alTuVDuBYs-"
      }
    },
    {
      "cell_type": "code",
      "execution_count": 4,
      "metadata": {
        "colab": {
          "base_uri": "https://localhost:8080/"
        },
        "id": "4PRE3b7r_l0m",
        "outputId": "b99acc8c-5f48-4b80-824f-438cd5c02eac"
      },
      "outputs": [
        {
          "output_type": "execute_result",
          "data": {
            "text/plain": [
              "array([0., 0., 0., 1., 0., 0., 0., 0., 0., 0.])"
            ]
          },
          "metadata": {},
          "execution_count": 4
        }
      ],
      "source": [
        "y_train_one_hot[50]"
      ]
    },
    {
      "cell_type": "code",
      "execution_count": 5,
      "metadata": {
        "id": "xvlMWWhB_l0n",
        "outputId": "3bd64749-8c66-4917-a80c-6cd29cfd25e5",
        "colab": {
          "base_uri": "https://localhost:8080/"
        }
      },
      "outputs": [
        {
          "output_type": "execute_result",
          "data": {
            "text/plain": [
              "np.uint8(3)"
            ]
          },
          "metadata": {},
          "execution_count": 5
        }
      ],
      "source": [
        "y_train[50]"
      ]
    },
    {
      "cell_type": "code",
      "execution_count": 6,
      "metadata": {
        "id": "HGC5bf27_l0n",
        "outputId": "3e891d75-7e8f-4926-f429-5bddad6ca2d9",
        "colab": {
          "base_uri": "https://localhost:8080/",
          "height": 465
        }
      },
      "outputs": [
        {
          "output_type": "display_data",
          "data": {
            "text/plain": [
              "<Figure size 640x480 with 1 Axes>"
            ],
            "image/png": "[encoded data removed]"
          },
          "metadata": {}
        },
        {
          "output_type": "stream",
          "name": "stdout",
          "text": [
            "3\n"
          ]
        }
      ],
      "source": [
        "plt.imshow(X_train[50].reshape(28, 28), cmap='gray')\n",
        "plt.show()\n",
        "print(y_train[50])"
      ]
    },
    {
      "cell_type": "markdown",
      "metadata": {
        "id": "rSjJxSdt_l0n"
      },
      "source": [
        "## 4.打造神經網路模型"
      ]
    },
    {
      "cell_type": "code",
      "execution_count": 7,
      "metadata": {
        "id": "EJUNiIF4_l0n",
        "outputId": "acf0da82-bad6-48bb-c323-233a955b22fc",
        "colab": {
          "base_uri": "https://localhost:8080/"
        }
      },
      "outputs": [
        {
          "output_type": "stream",
          "name": "stdout",
          "text": [
            "2.19.0\n"
          ]
        }
      ],
      "source": [
        "import tensorflow as tf\n",
        "from tensorflow import keras\n",
        "from tensorflow.keras.layers import Dense, Activation\n",
        "from tensorflow.keras import Sequential\n",
        "from tensorflow.keras.models import Model\n",
        "from tensorflow.keras.optimizers import Adam\n",
        "\n",
        "print(tf.__version__)"
      ]
    },
    {
      "cell_type": "code",
      "execution_count": 8,
      "metadata": {
        "id": "sHpcvMPV_l0n"
      },
      "outputs": [],
      "source": [
        "#建立模型：這段程式碼定義了一個 Sequential 型神經網路模型，模型包含兩個全連接層，使用 relu 激活函數和 softmax 激活函數。\n",
        "#model.add(BatchNormalization())\n",
        "#model.add(Dropout(0.3))\n",
        "from tensorflow.keras.layers import BatchNormalization\n",
        "\n",
        "def build_model():\n",
        "    model = Sequential()\n",
        "    model.add(Dense(100, activation='relu', input_dim=X_train.shape[-1]))\n",
        "    model.add(Dense(100, activation='relu', input_dim=X_train.shape[-1]))\n",
        "    model.add(Dense(25, activation='relu', input_dim=X_train.shape[-1]))\n",
        "    model.add(Dense(10, activation='softmax'))\n",
        "    return model\n"
      ]
    },
    {
      "cell_type": "code",
      "execution_count": 9,
      "metadata": {
        "id": "jPUgdfLk_l0n",
        "outputId": "7ece9be3-d702-4fd7-8778-eda4e846ba57",
        "colab": {
          "base_uri": "https://localhost:8080/",
          "height": 329
        }
      },
      "outputs": [
        {
          "output_type": "stream",
          "name": "stderr",
          "text": [
            "/usr/local/lib/python3.12/dist-packages/keras/src/layers/core/dense.py:93: UserWarning: Do not pass an `input_shape`/`input_dim` argument to a layer. When using Sequential models, prefer using an `Input(shape)` object as the first layer in the model instead.\n",
            "  super().__init__(activity_regularizer=activity_regularizer, **kwargs)\n"
          ]
        },
        {
          "output_type": "display_data",
          "data": {
            "text/plain": [
              "\u001b[1mModel: \"sequential\"\u001b[0m\n"
            ],
            "text/html": [
              "<pre style=\"white-space:pre;overflow-x:auto;line-height:normal;font-family:Menlo,'DejaVu Sans Mono',consolas,'Courier New',monospace\"><span style=\"font-weight: bold\">Model: \"sequential\"</span>\n",
              "</pre>\n"
            ]
          },
          "metadata": {}
        },
        {
          "output_type": "display_data",
          "data": {
            "text/plain": [
              "┏━━━━━━━━━━━━━━━━━━━━━━━━━━━━━━━━━┳━━━━━━━━━━━━━━━━━━━━━━━━┳━━━━━━━━━━━━━━━┓\n",
              "┃\u001b[1m \u001b[0m\u001b[1mLayer (type)                   \u001b[0m\u001b[1m \u001b[0m┃\u001b[1m \u001b[0m\u001b[1mOutput Shape          \u001b[0m\u001b[1m \u001b[0m┃\u001b[1m \u001b[0m\u001b[1m      Param #\u001b[0m\u001b[1m \u001b[0m┃\n",
              "┡━━━━━━━━━━━━━━━━━━━━━━━━━━━━━━━━━╇━━━━━━━━━━━━━━━━━━━━━━━━╇━━━━━━━━━━━━━━━┩\n",
              "│ dense (\u001b[38;5;33mDense\u001b[0m)                   │ (\u001b[38;5;45mNone\u001b[0m, \u001b[38;5;34m100\u001b[0m)            │        \u001b[38;5;34m78,500\u001b[0m │\n",
              "├─────────────────────────────────┼────────────────────────┼───────────────┤\n",
              "│ dense_1 (\u001b[38;5;33mDense\u001b[0m)                 │ (\u001b[38;5;45mNone\u001b[0m, \u001b[38;5;34m100\u001b[0m)            │        \u001b[38;5;34m10,100\u001b[0m │\n",
              "├─────────────────────────────────┼────────────────────────┼───────────────┤\n",
              "│ dense_2 (\u001b[38;5;33mDense\u001b[0m)                 │ (\u001b[38;5;45mNone\u001b[0m, \u001b[38;5;34m25\u001b[0m)             │         \u001b[38;5;34m2,525\u001b[0m │\n",
              "├─────────────────────────────────┼────────────────────────┼───────────────┤\n",
              "│ dense_3 (\u001b[38;5;33mDense\u001b[0m)                 │ (\u001b[38;5;45mNone\u001b[0m, \u001b[38;5;34m10\u001b[0m)             │           \u001b[38;5;34m260\u001b[0m │\n",
              "└─────────────────────────────────┴────────────────────────┴───────────────┘\n"
            ],
            "text/html": [
              "<pre style=\"white-space:pre;overflow-x:auto;line-height:normal;font-family:Menlo,'DejaVu Sans Mono',consolas,'Courier New',monospace\">┏━━━━━━━━━━━━━━━━━━━━━━━━━━━━━━━━━┳━━━━━━━━━━━━━━━━━━━━━━━━┳━━━━━━━━━━━━━━━┓\n",
              "┃<span style=\"font-weight: bold\"> Layer (type)                    </span>┃<span style=\"font-weight: bold\"> Output Shape           </span>┃<span style=\"font-weight: bold\">       Param # </span>┃\n",
              "┡━━━━━━━━━━━━━━━━━━━━━━━━━━━━━━━━━╇━━━━━━━━━━━━━━━━━━━━━━━━╇━━━━━━━━━━━━━━━┩\n",
              "│ dense (<span style=\"color: #0087ff; text-decoration-color: #0087ff\">Dense</span>)                   │ (<span style=\"color: #00d7ff; text-decoration-color: #00d7ff\">None</span>, <span style=\"color: #00af00; text-decoration-color: #00af00\">100</span>)            │        <span style=\"color: #00af00; text-decoration-color: #00af00\">78,500</span> │\n",
              "├─────────────────────────────────┼────────────────────────┼───────────────┤\n",
              "│ dense_1 (<span style=\"color: #0087ff; text-decoration-color: #0087ff\">Dense</span>)                 │ (<span style=\"color: #00d7ff; text-decoration-color: #00d7ff\">None</span>, <span style=\"color: #00af00; text-decoration-color: #00af00\">100</span>)            │        <span style=\"color: #00af00; text-decoration-color: #00af00\">10,100</span> │\n",
              "├─────────────────────────────────┼────────────────────────┼───────────────┤\n",
              "│ dense_2 (<span style=\"color: #0087ff; text-decoration-color: #0087ff\">Dense</span>)                 │ (<span style=\"color: #00d7ff; text-decoration-color: #00d7ff\">None</span>, <span style=\"color: #00af00; text-decoration-color: #00af00\">25</span>)             │         <span style=\"color: #00af00; text-decoration-color: #00af00\">2,525</span> │\n",
              "├─────────────────────────────────┼────────────────────────┼───────────────┤\n",
              "│ dense_3 (<span style=\"color: #0087ff; text-decoration-color: #0087ff\">Dense</span>)                 │ (<span style=\"color: #00d7ff; text-decoration-color: #00d7ff\">None</span>, <span style=\"color: #00af00; text-decoration-color: #00af00\">10</span>)             │           <span style=\"color: #00af00; text-decoration-color: #00af00\">260</span> │\n",
              "└─────────────────────────────────┴────────────────────────┴───────────────┘\n",
              "</pre>\n"
            ]
          },
          "metadata": {}
        },
        {
          "output_type": "display_data",
          "data": {
            "text/plain": [
              "\u001b[1m Total params: \u001b[0m\u001b[38;5;34m91,385\u001b[0m (356.97 KB)\n"
            ],
            "text/html": [
              "<pre style=\"white-space:pre;overflow-x:auto;line-height:normal;font-family:Menlo,'DejaVu Sans Mono',consolas,'Courier New',monospace\"><span style=\"font-weight: bold\"> Total params: </span><span style=\"color: #00af00; text-decoration-color: #00af00\">91,385</span> (356.97 KB)\n",
              "</pre>\n"
            ]
          },
          "metadata": {}
        },
        {
          "output_type": "display_data",
          "data": {
            "text/plain": [
              "\u001b[1m Trainable params: \u001b[0m\u001b[38;5;34m91,385\u001b[0m (356.97 KB)\n"
            ],
            "text/html": [
              "<pre style=\"white-space:pre;overflow-x:auto;line-height:normal;font-family:Menlo,'DejaVu Sans Mono',consolas,'Courier New',monospace\"><span style=\"font-weight: bold\"> Trainable params: </span><span style=\"color: #00af00; text-decoration-color: #00af00\">91,385</span> (356.97 KB)\n",
              "</pre>\n"
            ]
          },
          "metadata": {}
        },
        {
          "output_type": "display_data",
          "data": {
            "text/plain": [
              "\u001b[1m Non-trainable params: \u001b[0m\u001b[38;5;34m0\u001b[0m (0.00 B)\n"
            ],
            "text/html": [
              "<pre style=\"white-space:pre;overflow-x:auto;line-height:normal;font-family:Menlo,'DejaVu Sans Mono',consolas,'Courier New',monospace\"><span style=\"font-weight: bold\"> Non-trainable params: </span><span style=\"color: #00af00; text-decoration-color: #00af00\">0</span> (0.00 B)\n",
              "</pre>\n"
            ]
          },
          "metadata": {}
        }
      ],
      "source": [
        "model = build_model()\n",
        "model.summary()   # Weights = (784+1)*25+(25+1)*10"
      ]
    },
    {
      "cell_type": "markdown",
      "metadata": {
        "id": "5gzFdATr_l0n"
      },
      "source": [
        "## 5.編譯&訓練模型"
      ]
    },
    {
      "cell_type": "code",
      "execution_count": null,
      "metadata": {
        "id": "qgZG8XNF_l0o",
        "outputId": "fa5bb1db-1501-4571-cb08-0076f3903195",
        "colab": {
          "base_uri": "https://localhost:8080/"
        }
      },
      "outputs": [
        {
          "output_type": "stream",
          "name": "stdout",
          "text": [
            "Epoch 1/25\n",
            "\u001b[1m844/844\u001b[0m \u001b[32m━━━━━━━━━━━━━━━━━━━━\u001b[0m\u001b[37m\u001b[0m \u001b[1m7s\u001b[0m 5ms/step - acc: 0.8172 - loss: 0.6071 - val_acc: 0.9657 - val_loss: 0.1232\n",
            "Epoch 2/25\n",
            "\u001b[1m844/844\u001b[0m \u001b[32m━━━━━━━━━━━━━━━━━━━━\u001b[0m\u001b[37m\u001b[0m \u001b[1m7s\u001b[0m 3ms/step - acc: 0.9603 - loss: 0.1359 - val_acc: 0.9677 - val_loss: 0.1142\n",
            "Epoch 3/25\n",
            "\u001b[1m844/844\u001b[0m \u001b[32m━━━━━━━━━━━━━━━━━━━━\u001b[0m\u001b[37m\u001b[0m \u001b[1m2s\u001b[0m 3ms/step - acc: 0.9730 - loss: 0.0881 - val_acc: 0.9740 - val_loss: 0.0903\n",
            "Epoch 4/25\n",
            "\u001b[1m844/844\u001b[0m \u001b[32m━━━━━━━━━━━━━━━━━━━━\u001b[0m\u001b[37m\u001b[0m \u001b[1m2s\u001b[0m 3ms/step - acc: 0.9798 - loss: 0.0649 - val_acc: 0.9750 - val_loss: 0.0886\n",
            "Epoch 5/25\n",
            "\u001b[1m844/844\u001b[0m \u001b[32m━━━━━━━━━━━━━━━━━━━━\u001b[0m\u001b[37m\u001b[0m \u001b[1m2s\u001b[0m 3ms/step - acc: 0.9844 - loss: 0.0514 - val_acc: 0.9742 - val_loss: 0.1022\n",
            "Epoch 6/25\n",
            "\u001b[1m844/844\u001b[0m \u001b[32m━━━━━━━━━━━━━━━━━━━━\u001b[0m\u001b[37m\u001b[0m \u001b[1m3s\u001b[0m 3ms/step - acc: 0.9868 - loss: 0.0407 - val_acc: 0.9732 - val_loss: 0.1027\n",
            "Epoch 7/25\n",
            "\u001b[1m844/844\u001b[0m \u001b[32m━━━━━━━━━━━━━━━━━━━━\u001b[0m\u001b[37m\u001b[0m \u001b[1m3s\u001b[0m 3ms/step - acc: 0.9877 - loss: 0.0382 - val_acc: 0.9785 - val_loss: 0.0851\n",
            "Epoch 8/25\n"
          ]
        }
      ],
      "source": [
        "# 編譯模型:這段程式碼設定了模型的優化器、損失函數和評估指標\n",
        "\n",
        "optim = Adam(learning_rate=0.001)\n",
        "model.compile(loss='categorical_crossentropy',\n",
        "              optimizer=optim,\n",
        "              metrics=['acc'])\n",
        "\n",
        "\n",
        "# 訓練模型:這段程式碼用訓練資料訓練模型，指定了批次大小、訓練迭代次數、是否混洗資料和驗證集的比例。\n",
        "history = model.fit(X_train, y_train_one_hot,\n",
        "                    batch_size=64,\n",
        "                    epochs=25,\n",
        "                    verbose=1,\n",
        "                    shuffle=True,\n",
        "                    validation_split=0.1)\n",
        "\n",
        "\n",
        "\n",
        "# model.fit(): 這是 TensorFlow 中用於訓練模型的函式，它會將輸入資料和標籤作為參數，並根據指定的訓練設定來訓練模型\n",
        "# X_train: 訓練資料的特徵，通常是一個 Numpy 陣列\n",
        "# y_train_one_hot: 訓練資料的標籤，通常是經過 One-hot 編碼的 Numpy 陣列\n",
        "# batch_size: 每個訓練批次的樣本數量。在每個批次中，模型會根據這些樣本的資訊進行參數更新。較大的批次大小可以提高訓練速度，但可能會佔用更多記憶體\n",
        "# epochs: 訓練迭代的次數，每個迭代都會經過整個訓練資料集\n",
        "# verbose: 控制訓練過程中的輸出資訊。設定為 0 表示不輸出任何訊息，設定為 1 表示輸出進度條，設定為 2 表示每個 epoch 輸出一行訊息\n",
        "# shuffle: 是否在每個 epoch 開始前將訓練資料洗牌。這有助於防止模型對資料的順序產生記憶效應\n",
        "# validation_split: 驗證資料的比例。在訓練過程中，會從訓練資料中分割出一部分作為驗證資料，用於評估模型的性能。這裡指定的比例為 0.1，表示將訓練資料的 10% 作為驗證資料\n",
        "# history: 此變數用於存儲訓練過程中的歷史記錄，包括損失函數和評估指標的值。該變數將包含訓練期間每個 epoch 的損失和準確率等指標的變化情況\n",
        "\n",
        "\n",
        "#總結來說，這段程式碼執行了模型的訓練過程，使用了訓練資料 X_train 和 y_train_one_hot，並根據指定的訓練設定進行訓練，同時將訓練過程中的歷史記錄存儲在 history 變數中。\n",
        "#訓練過程中會進行多個 epoch 的迭代，每個 epoch 會使用 batch_size 數量的樣本進行模型參數的更新。\n"
      ]
    },
    {
      "cell_type": "markdown",
      "source": [],
      "metadata": {
        "id": "0jDlwJAx_g0B"
      }
    },
    {
      "cell_type": "markdown",
      "metadata": {
        "id": "ksXNr9p7_l0o"
      },
      "source": [
        "## 6.觀察訓練結果"
      ]
    },
    {
      "cell_type": "code",
      "execution_count": null,
      "metadata": {
        "id": "mfrVI9Q-_l0o"
      },
      "outputs": [],
      "source": [
        "history_dict = history.history\n",
        "history_dict.keys()"
      ]
    },
    {
      "cell_type": "code",
      "execution_count": null,
      "metadata": {
        "id": "3lJnyqPl_l0o"
      },
      "outputs": [],
      "source": [
        "import matplotlib.pyplot as plt\n",
        "\n",
        "acc = history_dict['acc']\n",
        "val_acc = history_dict['val_acc']\n",
        "loss = history_dict['loss']\n",
        "val_loss = history_dict['val_loss']\n",
        "epochs_ = range(1,len(acc)+1)"
      ]
    },
    {
      "cell_type": "markdown",
      "metadata": {
        "id": "Ze6Capag_l0o"
      },
      "source": [
        "## 7.觀察模型在訓練集和測試集 loss"
      ]
    },
    {
      "cell_type": "code",
      "execution_count": null,
      "metadata": {
        "id": "f37hYK1p_l0o"
      },
      "outputs": [],
      "source": [
        "plt.plot(epochs_ , loss , label = 'training loss')\n",
        "plt.plot(epochs_ , val_loss , label = 'val los')\n",
        "plt.title('training and val loss')\n",
        "plt.xlabel('epochs')\n",
        "plt.ylabel('loss')\n",
        "plt.legend()\n",
        "plt.show()"
      ]
    },
    {
      "cell_type": "markdown",
      "metadata": {
        "id": "DL-NBv23_l0o"
      },
      "source": [
        "## 8.觀察訓練集和測試集 accuracy"
      ]
    },
    {
      "cell_type": "code",
      "execution_count": null,
      "metadata": {
        "id": "CbupMLaJ_l0o"
      },
      "outputs": [],
      "source": [
        "plt.clf()\n",
        "plt.plot(epochs_ , acc , label='train accuracy')\n",
        "plt.plot(epochs_ , val_acc , label = 'val accuracy')\n",
        "plt.title('train and val acc')\n",
        "plt.xlabel('epochs')\n",
        "plt.ylabel('acc')\n",
        "plt.legend()\n",
        "plt.show()"
      ]
    },
    {
      "cell_type": "markdown",
      "metadata": {
        "id": "kjAZQydt_l0o"
      },
      "source": [
        "## 9.用測試集做預測"
      ]
    },
    {
      "cell_type": "code",
      "execution_count": null,
      "metadata": {
        "id": "lweRycqY_l0p"
      },
      "outputs": [],
      "source": [
        "from sklearn.metrics import accuracy_score\n",
        "\n",
        "pred =  np.argmax(model.predict(X_test), axis=1)\n",
        "accuracy_score(y_test, pred)"
      ]
    },
    {
      "cell_type": "markdown",
      "metadata": {
        "id": "Rn0f66GJ_l0p"
      },
      "source": [
        "## 10.統計training set預測正確與錯誤內容"
      ]
    },
    {
      "cell_type": "markdown",
      "metadata": {
        "id": "yfC5w_lW_l0p"
      },
      "source": [
        "10000 筆測試圖片中個找出前 8 張預測正確與錯誤的圖片。"
      ]
    },
    {
      "cell_type": "code",
      "execution_count": null,
      "metadata": {
        "id": "eXevEN78_l0p"
      },
      "outputs": [],
      "source": [
        "# now storing some properly as well as misclassified indexes'.\n",
        "i=0\n",
        "prop_class=[]\n",
        "mis_class=[]\n",
        "\n",
        "for i in range(len(X_test)):\n",
        "    if(y_test[i]==pred[i]):\n",
        "        prop_class.append(i)\n",
        "    if(len(prop_class)==8):\n",
        "        break\n",
        "\n",
        "i=0\n",
        "for i in range(len(X_test)):\n",
        "    if(y_test[i]!=pred[i]):\n",
        "        mis_class.append(i)\n",
        "    if(len(mis_class)==8):\n",
        "        break"
      ]
    },
    {
      "cell_type": "markdown",
      "metadata": {
        "id": "B2HLwx8j_l0p"
      },
      "source": [
        "## training set 預測正確"
      ]
    },
    {
      "cell_type": "code",
      "execution_count": null,
      "metadata": {
        "id": "vprF3CEt_l0p"
      },
      "outputs": [],
      "source": [
        "count=0\n",
        "fig,ax=plt.subplots(4,2)\n",
        "fig.set_size_inches(15,15)\n",
        "for i in range (4):\n",
        "    for j in range (2):\n",
        "        ax[i,j].imshow(X_test[prop_class[count]].reshape(28, 28), cmap='gray')\n",
        "        ax[i,j].set_title(\"Predicted : \"+str(pred[prop_class[count]])+\"\\n\"+\"Actual : \"+str(y_test[prop_class[count]]))\n",
        "        plt.tight_layout()\n",
        "        count+=1"
      ]
    },
    {
      "cell_type": "markdown",
      "metadata": {
        "id": "TkhWALTR_l0p"
      },
      "source": [
        "## testing set 預測錯誤"
      ]
    },
    {
      "cell_type": "code",
      "execution_count": null,
      "metadata": {
        "id": "QUjJzQuq_l0p"
      },
      "outputs": [],
      "source": [
        "count=0\n",
        "fig,ax=plt.subplots(4,2)\n",
        "fig.set_size_inches(15,15)\n",
        "for i in range (4):\n",
        "    for j in range (2):\n",
        "        ax[i,j].imshow(X_test[mis_class[count]].reshape(28, 28), cmap='gray')\n",
        "        ax[i,j].set_title(\"Predicted : \"+str(pred[mis_class[count]])+\"\\n\"+\"Actual : \"+str(y_test[mis_class[count]]))\n",
        "        plt.tight_layout()\n",
        "        count+=1"
      ]
    },
    {
      "cell_type": "code",
      "execution_count": null,
      "metadata": {
        "id": "qx7d5H04_l0p"
      },
      "outputs": [],
      "source": []
    },
    {
      "cell_type": "code",
      "execution_count": null,
      "metadata": {
        "id": "YrLaWieq_l0p"
      },
      "outputs": [],
      "source": []
    }
  ],
  "metadata": {
    "kernelspec": {
      "display_name": "Python 3",
      "name": "python3"
    },
    "language_info": {
      "codemirror_mode": {
        "name": "ipython",
        "version": 3
      },
      "file_extension": ".py",
      "mimetype": "text/x-python",
      "name": "python",
      "nbconvert_exporter": "python",
      "pygments_lexer": "ipython3",
      "version": "3.8.5"
    },
    "toc": {
      "base_numbering": 1,
      "nav_menu": {},
      "number_sections": true,
      "sideBar": true,
      "skip_h1_title": false,
      "title_cell": "Table of Contents",
      "title_sidebar": "Contents",
      "toc_cell": false,
      "toc_position": {},
      "toc_section_display": true,
      "toc_window_display": false
    },
    "colab": {
      "provenance": [],
      "gpuType": "T4",
      "include_colab_link": true
    },
    "accelerator": "GPU"
  },
  "nbformat": 4,
  "nbformat_minor": 0
}